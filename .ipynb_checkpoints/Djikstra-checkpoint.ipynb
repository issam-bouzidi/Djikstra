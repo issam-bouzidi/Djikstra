{
 "cells": [
  {
   "cell_type": "code",
   "execution_count": 1,
   "id": "1fd25cce",
   "metadata": {},
   "outputs": [],
   "source": [
    "import numpy as np\n",
    "import matplotlib.pyplot as plt\n",
    "import warnings\n",
    "warnings.filterwarnings('ignore')"
   ]
  },
  {
   "cell_type": "markdown",
   "id": "4a2889dc",
   "metadata": {},
   "source": [
    "## Variables initialization\n",
    "#### you have to choose between option 1 or 2  \n",
    "option 1: generate a 2d array filled by random values ranging from min_val to max_val  \n",
    "option 2: generate a 2d array filled by fixed value 1  \n",
    "Comment the cell that you don't want to use"
   ]
  },
  {
   "cell_type": "code",
   "execution_count": 2,
   "id": "58723d37",
   "metadata": {},
   "outputs": [],
   "source": [
    "# var init for an 2d array filled with random values\n",
    "#min_val = 0, #\n",
    "max_val = 32\n",
    "# maxnum that the 2d array can contains\n",
    "maxnum=20"
   ]
  },
  {
   "cell_type": "code",
   "execution_count": 3,
   "id": "c9c6f345",
   "metadata": {},
   "outputs": [],
   "source": [
    "def create_env(option=1, max_val = 10, maxnum=20):\n",
    "    if option == 1:\n",
    "        return np.random.randint(1, maxnum, size=(max_val, max_val))\n",
    "    elif option ==2:\n",
    "        return np.full((max_val, max_val), 1)\n",
    "    else:\n",
    "        print('an error has occured!')"
   ]
  },
  {
   "cell_type": "code",
   "execution_count": 4,
   "id": "38401234",
   "metadata": {
    "scrolled": true
   },
   "outputs": [],
   "source": [
    "# call the function create_env(option=1, max_val = 10, maxnum=20)\n",
    "# params :\n",
    "#    option: default value 1\n",
    "#    max_val: default value 10\n",
    "#    maxnum: default value 20\n",
    "env = create_env(2, 32)"
   ]
  },
  {
   "cell_type": "markdown",
   "id": "822771a9",
   "metadata": {},
   "source": [
    "### define  start cell and finish cell"
   ]
  },
  {
   "cell_type": "code",
   "execution_count": 5,
   "id": "d349fe8b",
   "metadata": {},
   "outputs": [],
   "source": [
    "# start cell\n",
    "env[0,0]=0\n",
    "# finish cell\n",
    "env[max_val-1,max_val-1]=0"
   ]
  },
  {
   "cell_type": "markdown",
   "id": "77825a01",
   "metadata": {},
   "source": [
    "### define the sum of all values in the array  \n",
    "it's used to prensent value in a cell that represented as an obstacle"
   ]
  },
  {
   "cell_type": "code",
   "execution_count": 6,
   "id": "b0537adc",
   "metadata": {},
   "outputs": [],
   "source": [
    "sum_env_values = sum(map(sum,env))"
   ]
  },
  {
   "cell_type": "markdown",
   "id": "8dad736e",
   "metadata": {},
   "source": [
    "## generate some obstacles\n",
    "the code below allows to specify some cells as an obstacles"
   ]
  },
  {
   "cell_type": "code",
   "execution_count": 7,
   "id": "e416b656",
   "metadata": {},
   "outputs": [],
   "source": [
    "# generate obstacles\n",
    "for x in range(2, max_val):\n",
    "    env[2, x] = sum_env_values\n",
    "    \n",
    "for x in range(2, max_val-3):\n",
    "    env[x, 2] = sum_env_values\n",
    "    \n",
    "for x in range(5, max_val):\n",
    "    env[x, 5] = sum_env_values"
   ]
  },
  {
   "cell_type": "markdown",
   "id": "b94c3d67",
   "metadata": {},
   "source": [
    "## Visualization of the environnement"
   ]
  },
  {
   "cell_type": "code",
   "execution_count": 8,
   "id": "7d436bfd",
   "metadata": {},
   "outputs": [
    {
     "data": {
      "image/png": "[encoded data removed]",
      "text/plain": [
       "<Figure size 1000x1000 with 1 Axes>"
      ]
     },
     "metadata": {},
     "output_type": "display_data"
    }
   ],
   "source": [
    "fig, ax = plt.subplots(figsize=(10,10))\n",
    "current_cmap = plt.cm.Blues\n",
    "current_cmap.set_bad(color='red')\n",
    "# ax.matshow(env, cmap=plt.cm.Blues, vmin=0, vmax=maxnum*2)\n",
    "ax.matshow(env, cmap=plt.cm.Blues, vmin=0)\n",
    "for (i, j), z in np.ndenumerate(env):\n",
    "    ax.text(j, i, '{:0.1f}'.format(z), ha='center', va='center')"
   ]
  },
  {
   "cell_type": "markdown",
   "id": "bee73ec5",
   "metadata": {},
   "source": [
    "## Initialize auxiliary arrays"
   ]
  },
  {
   "cell_type": "code",
   "execution_count": 9,
   "id": "05c42a0d",
   "metadata": {},
   "outputs": [],
   "source": [
    "distmap=np.ones((max_val,max_val),dtype=int)*np.Infinity\n",
    "distmap[0,0]=0\n",
    "originmap=np.ones((max_val,max_val),dtype=int)*np.nan\n",
    "visited=np.zeros((max_val,max_val),dtype=bool)\n",
    "finished = False\n",
    "x,y=np.int(0),np.int(0)\n",
    "count=0"
   ]
  },
  {
   "cell_type": "markdown",
   "id": "b7acbb92",
   "metadata": {},
   "source": [
    "## Loop Dijkstra until reaching the target cell"
   ]
  },
  {
   "cell_type": "code",
   "execution_count": 10,
   "id": "70e1aa25",
   "metadata": {},
   "outputs": [],
   "source": [
    "while not finished:\n",
    "  # move to x+1,y\n",
    "  if x < max_val-1:\n",
    "    if distmap[x+1,y]>env[x+1,y]+distmap[x,y] and not visited[x+1,y]:\n",
    "      distmap[x+1,y]=env[x+1,y]+distmap[x,y]\n",
    "      originmap[x+1,y]=np.ravel_multi_index([x,y], (max_val,max_val))\n",
    "  # move to x-1,y\n",
    "  if x>0:\n",
    "    if distmap[x-1,y]>env[x-1,y]+distmap[x,y] and not visited[x-1,y]:\n",
    "      distmap[x-1,y]=env[x-1,y]+distmap[x,y]\n",
    "      originmap[x-1,y]=np.ravel_multi_index([x,y], (max_val,max_val))\n",
    "  # move to x,y+1\n",
    "  if y < max_val-1:\n",
    "    if distmap[x,y+1]>env[x,y+1]+distmap[x,y] and not visited[x,y+1]:\n",
    "      distmap[x,y+1]=env[x,y+1]+distmap[x,y]\n",
    "      originmap[x,y+1]=np.ravel_multi_index([x,y], (max_val,max_val))\n",
    "  # move to x,y-1\n",
    "  if y>0:\n",
    "    if distmap[x,y-1]>env[x,y-1]+distmap[x,y] and not visited[x,y-1]:\n",
    "      distmap[x,y-1]=env[x,y-1]+distmap[x,y]\n",
    "      originmap[x,y-1]=np.ravel_multi_index([x,y], (max_val,max_val))\n",
    "\n",
    "  visited[x,y]=True\n",
    "  dismaptemp=distmap\n",
    "  dismaptemp[np.where(visited)]=np.Infinity\n",
    "  # now we find the shortest path so far\n",
    "  minpost=np.unravel_index(np.argmin(dismaptemp),np.shape(dismaptemp))\n",
    "  x,y=minpost[0],minpost[1]\n",
    "  if x==max_val-1 and y==max_val-1:\n",
    "    finished=True\n",
    "  count=count+1"
   ]
  },
  {
   "cell_type": "code",
   "execution_count": 11,
   "id": "472ae16b",
   "metadata": {},
   "outputs": [],
   "source": [
    "#Start backtracking to plot the path  \n",
    "mattemp=env.astype(float)\n",
    "x,y=max_val-1,max_val-1\n",
    "path=[]\n",
    "mattemp[np.int(x),np.int(y)]=np.nan\n",
    "\n",
    "while x>0.0 or y>0.0:\n",
    "  path.append([np.int(x),np.int(y)])\n",
    "  xxyy=np.unravel_index(np.int(originmap[np.int(x),np.int(y)]), (max_val,max_val))\n",
    "  x,y=xxyy[0],xxyy[1]\n",
    "  mattemp[np.int(x),np.int(y)]=np.nan\n",
    "path.append([np.int(x),np.int(y)])"
   ]
  },
  {
   "cell_type": "markdown",
   "id": "2b6c6d46",
   "metadata": {},
   "source": [
    "## Output and visualization of the path"
   ]
  },
  {
   "cell_type": "code",
   "execution_count": 12,
   "id": "4e86f637",
   "metadata": {},
   "outputs": [
    {
     "data": {
      "image/png": "[encoded data removed]",
      "text/plain": [
       "<Figure size 800x800 with 1 Axes>"
      ]
     },
     "metadata": {},
     "output_type": "display_data"
    }
   ],
   "source": [
    "\n",
    "current_cmap = plt.cm.Blues\n",
    "current_cmap.set_bad(color='green')\n",
    "fig, ax = plt.subplots(figsize=(8,8))\n",
    "ax.matshow(mattemp,cmap=plt.cm.Blues, vmin=0, vmax=20)\n",
    "for i in range(max_val):\n",
    "    for j in range(max_val):\n",
    "      c = env[j,i]\n",
    "      ax.text(i, j, str(c), va='center', ha='center')"
   ]
  },
  {
   "cell_type": "code",
   "execution_count": 25,
   "id": "5e775a31",
   "metadata": {},
   "outputs": [
    {
     "name": "stdout",
     "output_type": "stream",
     "text": [
      "The path length is: 23.0\n"
     ]
    }
   ],
   "source": [
    "print('The path length is: '+np.str(distmap[max_val-1,max_val-1]))"
   ]
  },
  {
   "cell_type": "code",
   "execution_count": null,
   "id": "baeaa0ba",
   "metadata": {},
   "outputs": [],
   "source": []
  },
  {
   "cell_type": "code",
   "execution_count": null,
   "id": "1341739a",
   "metadata": {},
   "outputs": [],
   "source": []
  }
 ],
 "metadata": {
  "kernelspec": {
   "display_name": "Python 3 (ipykernel)",
   "language": "python",
   "name": "python3"
  },
  "language_info": {
   "codemirror_mode": {
    "name": "ipython",
    "version": 3
   },
   "file_extension": ".py",
   "mimetype": "text/x-python",
   "name": "python",
   "nbconvert_exporter": "python",
   "pygments_lexer": "ipython3",
   "version": "3.9.15"
  }
 },
 "nbformat": 4,
 "nbformat_minor": 5
}
